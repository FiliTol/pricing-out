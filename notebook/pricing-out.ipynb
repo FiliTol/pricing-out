{
  "cells": [
    {
      "cell_type": "raw",
      "metadata": {},
      "source": [
        "---\n",
        "date: 2024-04-20\n",
        "author:\n",
        "  - name: Filippo Tolin\n",
        "abstract: > \n",
        "  The characteristic theme of the works of Stone is \n",
        "  the bridge between culture and society. ...\n",
        "keywords:\n",
        "  - Metaphysics\n",
        "  - String Theory\n",
        "license: \"CC BY\"\n",
        "copyright: \n",
        "  holder: Filippo Tolin\n",
        "  year: 2024\n",
        "citation: \n",
        "  container-title: Journal of Psychoceramics\n",
        "  volume: 1\n",
        "  issue: 1\n",
        "  doi: 10.5555/12345678\n",
        "funding: \"The author received no specific funding for this work.\"\n",
        "---"
      ],
      "id": "f4cd485e"
    },
    {
      "cell_type": "markdown",
      "metadata": {},
      "source": [
        "[Here is a nasty page where to find all blockchain data](https://gz.blockchair.com/bitcoin/blocks/)\n"
      ],
      "id": "85860054"
    },
    {
      "cell_type": "code",
      "metadata": {},
      "source": [
        "import subprocess, sys, requests\n",
        "\n",
        "day = \"20090103\"\n",
        "template = \"blockchair_bitcoin_blocks_\"\n",
        "extension = \".tsv.gz\"\n",
        "page = \"https://gz.blockchair.com/bitcoin/blocks/\"\n",
        "\n",
        "data = subprocess.run(f\"wget {page} {template} {day} {extension}\")\n",
        "\n",
        "print(data)"
      ],
      "id": "2ad46d44",
      "execution_count": null,
      "outputs": []
    }
  ],
  "metadata": {
    "kernelspec": {
      "name": "python3",
      "language": "python",
      "display_name": "Python 3 (ipykernel)"
    }
  },
  "nbformat": 4,
  "nbformat_minor": 5
}